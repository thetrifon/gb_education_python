{
  "nbformat": 4,
  "nbformat_minor": 0,
  "metadata": {
    "colab": {
      "name": "Python_DS_Trifonov_1.ipynb",
      "provenance": [],
      "collapsed_sections": [],
      "authorship_tag": "ABX9TyOBCkTIzaTO+UmBW5q59/Jg",
      "include_colab_link": true
    },
    "kernelspec": {
      "name": "python3",
      "display_name": "Python 3"
    },
    "language_info": {
      "name": "python"
    }
  },
  "cells": [
    {
      "cell_type": "markdown",
      "metadata": {
        "id": "view-in-github",
        "colab_type": "text"
      },
      "source": [
        "<a href=\"https://colab.research.google.com/github/thetrifon/gb_education_python/blob/main/Python_DS_Trifonov_1.ipynb\" target=\"_parent\"><img src=\"https://colab.research.google.com/assets/colab-badge.svg\" alt=\"Open In Colab\"/></a>"
      ]
    },
    {
      "cell_type": "code",
      "execution_count": null,
      "metadata": {
        "id": "MslHZyV8s5ne"
      },
      "outputs": [],
      "source": [
        "Задание 2\n",
        "\n",
        "Задание 3\n",
        "\n",
        "Задание 4\n",
        "\n",
        "Задание 5**\n",
        "\n"
      ]
    },
    {
      "cell_type": "code",
      "source": [
        "#1\n",
        "''' Импортируйте библиотеку Numpy и дайте ей псевдоним np.\n",
        "Создайте массив Numpy под названием a размером 5x2, то есть состоящий из 5 строк и 2 столбцов. Первый столбец должен содержать числа 1, 2, 3, 3, 1, \n",
        "а второй - числа 6, 8, 11, 10, 7. Будем считать, что каждый столбец - это признак, а строка - наблюдение. Затем найдите среднее значение по каждому признаку, \n",
        "используя метод mean массива Numpy. \n",
        "Результат запишите в массив mean_a, в нем должно быть 2 элемента.'''\n",
        "import numpy as np\n",
        "a = np.array([[1, 6], [2, 8], [3, 11], [3, 10], [1, 7]])\n",
        "mean_a = np.mean(a, axis = 0)\n",
        "print(mean_a)"
      ],
      "metadata": {
        "colab": {
          "base_uri": "https://localhost:8080/"
        },
        "id": "ewpWWyo3tL2L",
        "outputId": "570eb7fc-01d5-4fa3-8870-344f8959fa72"
      },
      "execution_count": 15,
      "outputs": [
        {
          "output_type": "stream",
          "name": "stdout",
          "text": [
            "[2.  8.4]\n"
          ]
        }
      ]
    },
    {
      "cell_type": "code",
      "source": [
        "#2\n",
        "'''Задание 2\n",
        "Вычислите массив a_centered, отняв от значений массива “а” средние значения соответствующих признаков, содержащиеся в массиве mean_a. \n",
        "Вычисление должно производиться в одно действие. Получившийся массив должен иметь размер 5x2.'''\n",
        "a_centered  = a - mean_a\n",
        "print(a_centered)"
      ],
      "metadata": {
        "colab": {
          "base_uri": "https://localhost:8080/"
        },
        "id": "IIouFNn_sHz0",
        "outputId": "557da380-daf6-4533-fae6-d32ced3f89e4"
      },
      "execution_count": 16,
      "outputs": [
        {
          "output_type": "stream",
          "name": "stdout",
          "text": [
            "[[-1.  -2.4]\n",
            " [ 0.  -0.4]\n",
            " [ 1.   2.6]\n",
            " [ 1.   1.6]\n",
            " [-1.  -1.4]]\n"
          ]
        }
      ]
    },
    {
      "cell_type": "code",
      "source": [
        "#3\n",
        "'''Задание 3\n",
        "Найдите скалярное произведение столбцов массива a_centered. В результате должна получиться величина a_centered_sp. \n",
        "Затем поделите a_centered_sp на N-1, где N - число наблюдений.'''\n",
        "a_centered_sp = np.dot(a_centered[:,0], a_centered[:,1] )\n",
        "a_centered_sp\n",
        "N = np.shape(a)[0]\n",
        "covariant = a_centered_sp/(N-1)\n",
        "print(covariant)"
      ],
      "metadata": {
        "colab": {
          "base_uri": "https://localhost:8080/"
        },
        "id": "ahgkVwPAt5S6",
        "outputId": "2c80c799-fd5a-49d3-eb0f-4e691f44dff1"
      },
      "execution_count": 17,
      "outputs": [
        {
          "output_type": "stream",
          "name": "stdout",
          "text": [
            "2.0\n"
          ]
        }
      ]
    },
    {
      "cell_type": "code",
      "source": [
        "#4\n",
        "'''Число, которое мы получили в конце задания 3 является ковариацией двух признаков, содержащихся в массиве “а”. \n",
        "В задании 4 мы делили сумму произведений центрированных признаков на N-1, а не на N, поэтому полученная нами величина является несмещенной оценкой ковариации.'''\n",
        "covariant_check = np.cov(a.T)[0, 1]\n",
        "print(covariant_check)\n",
        "\n"
      ],
      "metadata": {
        "colab": {
          "base_uri": "https://localhost:8080/"
        },
        "id": "EJKHggUWxZFP",
        "outputId": "0381a1e8-0ee1-4cda-fb29-18159d2561dd"
      },
      "execution_count": 18,
      "outputs": [
        {
          "output_type": "stream",
          "name": "stdout",
          "text": [
            "2.0\n"
          ]
        }
      ]
    },
    {
      "cell_type": "code",
      "source": [
        "#Тема “Работа с данными в Pandas”\n",
        "#1\n",
        "''' Импортируйте библиотеку Pandas и дайте ей псевдоним pd. Создайте датафрейм authors со столбцами author_id и author_name, в которых соответственно содержатся данные: \n",
        "[1, 2, 3] и ['Тургенев', 'Чехов', 'Островский'].\n",
        "Затем создайте датафрейм book cо столбцами author_id, book_title и price, в которых соответственно содержатся данные: [1, 1, 1, 2, 2, 3, 3],\n",
        "['Отцы и дети', 'Рудин', 'Дворянское гнездо', 'Толстый и тонкий', 'Дама с собачкой', 'Гроза', 'Таланты и поклонники'],\n",
        "[450, 300, 350, 500, 450, 370, 290].'''\n",
        "\n",
        "import pandas as pd\n",
        "authors = {'author_id': [1, 2, 3], 'author_name': ['Тургенев', 'Чехов', 'Островский']}\n",
        "authors = pd.DataFrame(authors)\n",
        "print(authors)\n",
        "\n",
        "book = {'author_id': [1, 1, 1, 2, 2, 3, 3], 'book_title':['Отцы и дети', 'Рудин', 'Дворянское гнездо', 'Толстый и тонкий', 'Дама с собачкой', 'Гроза', 'Таланты и поклонники'], \n",
        "        'book_price':[450, 300, 350, 500, 450, 370, 290]}\n",
        "book = pd.DataFrame(book)\n",
        "print(book)"
      ],
      "metadata": {
        "colab": {
          "base_uri": "https://localhost:8080/"
        },
        "id": "8fsiuvnweyoS",
        "outputId": "79ae0d7d-0052-4a2e-9fe1-85200b8a703c"
      },
      "execution_count": 19,
      "outputs": [
        {
          "output_type": "stream",
          "name": "stdout",
          "text": [
            "   author_id author_name\n",
            "0          1    Тургенев\n",
            "1          2       Чехов\n",
            "2          3  Островский\n",
            "   author_id            book_title  book_price\n",
            "0          1           Отцы и дети         450\n",
            "1          1                 Рудин         300\n",
            "2          1     Дворянское гнездо         350\n",
            "3          2      Толстый и тонкий         500\n",
            "4          2       Дама с собачкой         450\n",
            "5          3                 Гроза         370\n",
            "6          3  Таланты и поклонники         290\n"
          ]
        }
      ]
    },
    {
      "cell_type": "code",
      "source": [
        "#2\n",
        "'''Получите датафрейм authors_price, соединив датафреймы authors и books по полю author_id.'''\n",
        "authors_price = pd.merge(authors, book, on='author_id')\n",
        "print(authors_price)"
      ],
      "metadata": {
        "colab": {
          "base_uri": "https://localhost:8080/"
        },
        "id": "xiEC6eWjjTwC",
        "outputId": "fc15010c-9123-42e7-e7ae-1b6e71eac5fd"
      },
      "execution_count": 20,
      "outputs": [
        {
          "output_type": "stream",
          "name": "stdout",
          "text": [
            "   author_id author_name            book_title  book_price\n",
            "0          1    Тургенев           Отцы и дети         450\n",
            "1          1    Тургенев                 Рудин         300\n",
            "2          1    Тургенев     Дворянское гнездо         350\n",
            "3          2       Чехов      Толстый и тонкий         500\n",
            "4          2       Чехов       Дама с собачкой         450\n",
            "5          3  Островский                 Гроза         370\n",
            "6          3  Островский  Таланты и поклонники         290\n"
          ]
        }
      ]
    },
    {
      "cell_type": "code",
      "source": [
        "#3\n",
        "'''Создайте датафрейм top5, в котором содержатся строки из authors_price с пятью самыми дорогими книгами.'''\n",
        "top5 = authors_price.nlargest(5, 'book_price')\n",
        "print(top5)"
      ],
      "metadata": {
        "colab": {
          "base_uri": "https://localhost:8080/"
        },
        "id": "royYvdk-ld1K",
        "outputId": "13cf0edb-aa7c-4da9-a44e-4cd95adbd26f"
      },
      "execution_count": 21,
      "outputs": [
        {
          "output_type": "stream",
          "name": "stdout",
          "text": [
            "   author_id author_name         book_title  book_price\n",
            "3          2       Чехов   Толстый и тонкий         500\n",
            "0          1    Тургенев        Отцы и дети         450\n",
            "4          2       Чехов    Дама с собачкой         450\n",
            "5          3  Островский              Гроза         370\n",
            "2          1    Тургенев  Дворянское гнездо         350\n"
          ]
        }
      ]
    },
    {
      "cell_type": "code",
      "source": [
        "#4\n",
        "'''Создайте датафрейм authors_stat на основе информации из authors_price. В датафрейме authors_stat должны быть четыре столбца:\n",
        "author_name, min_price, max_price и mean_price,\n",
        "в которых должны содержаться соответственно имя автора, минимальная, максимальная и средняя цена на книги этого автора.'''\n",
        "author_name = authors_price.groupby('author_name').agg({'book_price': 'min'}).rename(columns={'book_price':'min_price'})\n",
        "max_price = authors_price.groupby('author_name').agg({'book_price': 'max'}).rename(columns={'book_price':'max_price'})\n",
        "mean_price = authors_price.groupby('author_name').agg({'book_price': 'mean'}).rename(columns={'book_price':'mean_price'}).round(decimals=0)\n",
        "authors_stat = pd.concat([author_name, max_price, mean_price], axis = 1)\n",
        "print(authors_stat)"
      ],
      "metadata": {
        "colab": {
          "base_uri": "https://localhost:8080/"
        },
        "id": "vf_IjJfhnO3a",
        "outputId": "f82173e8-708a-432c-ecf5-42a7e2ca1ba8"
      },
      "execution_count": 22,
      "outputs": [
        {
          "output_type": "stream",
          "name": "stdout",
          "text": [
            "             min_price  max_price  mean_price\n",
            "author_name                                  \n",
            "Островский         290        370       330.0\n",
            "Тургенев           300        450       367.0\n",
            "Чехов              450        500       475.0\n"
          ]
        }
      ]
    },
    {
      "cell_type": "code",
      "source": [
        "#5\n",
        "'''Создайте новый столбец в датафрейме authors_price под названием cover, в нем будут располагаться данные о том, какая обложка у данной книги - твердая или мягкая. \n",
        "В этот столбец поместите данные из следующего списка:\n",
        "['твердая', 'мягкая', 'мягкая', 'твердая', 'твердая', 'мягкая', 'мягкая'].\n",
        "Просмотрите документацию по функции pd.pivot_table с помощью вопросительного знака.Для каждого автора посчитайте суммарную стоимость книг в твердой и мягкой обложке. \n",
        "Используйте для этого функцию pd.pivot_table. При этом столбцы должны называться \"твердая\" и \"мягкая\", а индексами должны быть фамилии авторов. \n",
        "Пропущенные значения стоимостей заполните нулями, при необходимости загрузите библиотеку Numpy.\n",
        "Назовите полученный датасет book_info и сохраните его в формат pickle под названием \"book_info.pkl\". Затем загрузите из этого файла датафрейм и назовите его book_info2.\n",
        " Удостоверьтесь, что датафреймы book_info и book_info2 идентичны.'''\n",
        " \n",
        "authors_price['cover'] = ['твердая', 'мягкая', 'мягкая', 'твердая', 'твердая', 'мягкая', 'мягкая']\n",
        "print(authors_price)\n",
        "\n",
        "book_info = pd.pivot_table(authors_price, values='book_price', index=['author_name'], columns=['cover'], \n",
        "                           aggfunc=np.sum, fill_value=0)\n",
        "print(book_info)\n",
        "\n",
        "book_info.to_pickle('book_info.pkl')\n",
        "book_info\n",
        "\n",
        "book_info2 = pd.read_pickle('book_info.pkl')\n",
        "book_info2\n"
      ],
      "metadata": {
        "id": "WJNY5S1unTsY",
        "colab": {
          "base_uri": "https://localhost:8080/",
          "height": 133
        },
        "outputId": "7be93e6c-24dd-424f-b601-21f04e30ad5f"
      },
      "execution_count": 27,
      "outputs": [
        {
          "output_type": "error",
          "ename": "SyntaxError",
          "evalue": "ignored",
          "traceback": [
            "\u001b[0;36m  File \u001b[0;32m\"<ipython-input-27-b71bde785234>\"\u001b[0;36m, line \u001b[0;32m24\u001b[0m\n\u001b[0;31m    git remote add origin https://github.com/thetrifon/numpy.git\u001b[0m\n\u001b[0m             ^\u001b[0m\n\u001b[0;31mSyntaxError\u001b[0m\u001b[0;31m:\u001b[0m invalid syntax\n"
          ]
        }
      ]
    }
  ]
}